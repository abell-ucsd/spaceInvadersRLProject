{
 "cells": [
  {
   "cell_type": "markdown",
   "metadata": {},
   "source": [
    "# 0. Install Dependencies"
   ]
  },
  {
   "cell_type": "code",
   "execution_count": 1,
   "metadata": {},
   "outputs": [
    {
     "name": "stdout",
     "output_type": "stream",
     "text": [
      "Defaulting to user installation because normal site-packages is not writeable\n",
      "\u001b[31mERROR: Could not find a version that satisfies the requirement tensorflow==2.3.1 (from versions: 2.5.0, 2.5.1, 2.5.2, 2.5.3, 2.6.0rc0, 2.6.0rc1, 2.6.0rc2, 2.6.0, 2.6.1, 2.6.2, 2.6.3, 2.6.4, 2.6.5, 2.7.0rc0, 2.7.0rc1, 2.7.0, 2.7.1, 2.7.2, 2.7.3, 2.7.4, 2.8.0rc0, 2.8.0rc1, 2.8.0, 2.8.1, 2.8.2, 2.8.3, 2.8.4, 2.9.0rc0, 2.9.0rc1, 2.9.0rc2, 2.9.0, 2.9.1, 2.9.2, 2.9.3, 2.10.0rc0, 2.10.0rc1, 2.10.0rc2, 2.10.0rc3, 2.10.0, 2.10.1, 2.11.0rc0, 2.11.0rc1, 2.11.0rc2, 2.11.0, 2.11.1, 2.12.0rc0, 2.12.0rc1, 2.12.0, 2.12.1, 2.13.0rc0, 2.13.0rc1, 2.13.0rc2, 2.13.0, 2.13.1, 2.14.0rc0, 2.14.0rc1, 2.14.0, 2.14.1, 2.15.0rc0, 2.15.0rc1, 2.15.0, 2.15.0.post1, 2.15.1, 2.16.0rc0, 2.16.1)\u001b[0m\n",
      "\u001b[31mERROR: No matching distribution found for tensorflow==2.3.1\u001b[0m\n"
     ]
    }
   ],
   "source": [
    "!pip install tensorflow==2.3.1 gym keras-rl2 gym[atari]"
   ]
  },
  {
   "cell_type": "code",
   "execution_count": null,
   "metadata": {},
   "outputs": [],
   "source": [
    "#pip install ale-py"
   ]
  },
  {
   "cell_type": "markdown",
   "metadata": {},
   "source": [
    "# 1. Test Random Environment with OpenAI Gym"
   ]
  },
  {
   "cell_type": "code",
   "execution_count": 3,
   "metadata": {},
   "outputs": [],
   "source": [
    "import gym \n",
    "import random\n",
    "import matplotlib.pyplot as plt\n",
    "from IPython import display"
   ]
  },
  {
   "cell_type": "code",
   "execution_count": 74,
   "metadata": {},
   "outputs": [],
   "source": [
    "env = gym.make(\"ALE/SpaceInvaders-v5\")#, render_mode=\"rgb_array\"\n",
    "height, width, channels = env.observation_space.shape\n",
    "actions = env.action_space.n"
   ]
  },
  {
   "cell_type": "code",
   "execution_count": 5,
   "metadata": {},
   "outputs": [
    {
     "data": {
      "text/plain": [
       "['NOOP', 'FIRE', 'RIGHT', 'LEFT', 'RIGHTFIRE', 'LEFTFIRE']"
      ]
     },
     "execution_count": 5,
     "metadata": {},
     "output_type": "execute_result"
    }
   ],
   "source": [
    "env.unwrapped.get_action_meanings()"
   ]
  },
  {
   "cell_type": "code",
   "execution_count": 8,
   "metadata": {},
   "outputs": [],
   "source": [
    "%matplotlib inline\n",
    "\n",
    "import os\n",
    "import re\n",
    "import gym\n",
    "import time\n",
    "import copy\n",
    "import random\n",
    "import warnings\n",
    "import numpy as np\n",
    "\n",
    "import torch\n",
    "import torchvision\n",
    "import torch.nn as nn\n",
    "\n",
    "from IPython import display\n",
    "from skimage import io\n",
    "#from skimage.color import rgb2grey\n",
    "from skimage.color import rgb2gray\n",
    "from skimage.transform import rescale\n",
    "from matplotlib import pyplot as plt\n",
    "from tqdm import tqdm_notebook as tqdm\n",
    "from collections import deque, namedtuple\n",
    "plt.style.use('seaborn')\n",
    "warnings.filterwarnings('ignore')"
   ]
  },
  {
   "cell_type": "code",
   "execution_count": 18,
   "metadata": {},
   "outputs": [],
   "source": [
    "class DeepQNetwork(nn.Module):\n",
    "    def __init__(self, num_frames, num_actions):\n",
    "        super(DeepQNetwork, self).__init__()\n",
    "        self.num_frames = num_frames\n",
    "        self.num_actions = num_actions\n",
    "        \n",
    "        # Layers\n",
    "        self.conv1 = nn.Conv2d(\n",
    "            in_channels=num_frames,\n",
    "            out_channels=16,\n",
    "            kernel_size=8,\n",
    "            stride=4,\n",
    "            padding=2\n",
    "            )\n",
    "        self.conv2 = nn.Conv2d(\n",
    "            in_channels=16,\n",
    "            out_channels=32,\n",
    "            kernel_size=4,\n",
    "            stride=2,\n",
    "            padding=1\n",
    "            )\n",
    "        self.fc1 = nn.Linear(\n",
    "            in_features=3200,\n",
    "            out_features=256,\n",
    "            )\n",
    "        self.fc2 = nn.Linear(\n",
    "            in_features=256,\n",
    "            out_features=num_actions,\n",
    "            )\n",
    "        \n",
    "        # Activation Functions\n",
    "        self.relu = nn.ReLU()\n",
    "    \n",
    "    def flatten(self, x):\n",
    "        batch_size = x.size()[0]\n",
    "        x = x.view(batch_size, -1)\n",
    "        return x\n",
    "    \n",
    "    def forward(self, x):\n",
    "        \n",
    "        # Forward pass\n",
    "        x = self.relu(self.conv1(x))  # In: (80, 80, 4)  Out: (20, 20, 16)\n",
    "        x = self.relu(self.conv2(x))  # In: (20, 20, 16) Out: (10, 10, 32)\n",
    "        x = self.flatten(x)           # In: (10, 10, 32) Out: (3200,)\n",
    "        x = self.relu(self.fc1(x))    # In: (3200,)      Out: (256,)\n",
    "        x = self.fc2(x)               # In: (256,)       Out: (4,)\n",
    "        \n",
    "        return x"
   ]
  },
  {
   "cell_type": "code",
   "execution_count": 19,
   "metadata": {},
   "outputs": [],
   "source": [
    "Transition = namedtuple('Transition', ['state', 'action', 'reward', 'terminal', 'next_state'])"
   ]
  },
  {
   "cell_type": "code",
   "execution_count": 95,
   "metadata": {},
   "outputs": [],
   "source": [
    "class Agent:\n",
    "    def __init__(self, model, memory_depth, lr, gamma, epsilon_i, epsilon_f, anneal_time, ckptdir):\n",
    "        \n",
    "        self.cuda = True if torch.cuda.is_available() else False\n",
    "        \n",
    "        self.model = model\n",
    "        self.device = torch.device(\"cuda\" if self.cuda else \"cpu\")\n",
    "        \n",
    "        if self.cuda:\n",
    "            self.model = self.model.cuda()\n",
    "        \n",
    "        self.memory_depth = memory_depth\n",
    "        self.gamma = torch.tensor([gamma], device=self.device)\n",
    "        self.e_i = epsilon_i\n",
    "        self.e_f = epsilon_f\n",
    "        self.anneal_time = anneal_time\n",
    "        self.ckptdir = ckptdir\n",
    "        \n",
    "        if not os.path.isdir(ckptdir):\n",
    "            os.makedirs(ckptdir)\n",
    "        \n",
    "        self.memory = deque(maxlen=memory_depth)\n",
    "        self.clone()\n",
    "        \n",
    "        self.loss = nn.SmoothL1Loss()\n",
    "        self.opt = torch.optim.RMSprop(self.model.parameters(), lr=lr, alpha=0.95, eps=0.01)\n",
    "        \n",
    "    def clone(self):\n",
    "        try:\n",
    "            del self.clone_model\n",
    "        except:\n",
    "            pass\n",
    "        \n",
    "        self.clone_model = copy.deepcopy(self.model)\n",
    "        \n",
    "        for p in self.clone_model.parameters():\n",
    "            p.requires_grad = False\n",
    "        \n",
    "        if self.cuda:\n",
    "            self.clone_model = self.clone_model.cuda()\n",
    "    \n",
    "    def remember(self, *args):\n",
    "        self.memory.append(Transition(*args))\n",
    "    \n",
    "    def retrieve(self, batch_size):\n",
    "        transitions = random.sample(self.memory, batch_size)\n",
    "        batch = Transition(*zip(*transitions))\n",
    "        state, action, reward, terminal, next_state = map(torch.cat, [*batch])\n",
    "        return state, action, reward, terminal, next_state\n",
    "    \n",
    "    @property\n",
    "    def memories(self):\n",
    "        return len(self.memory)\n",
    "    \n",
    "    def act(self, state):\n",
    "        q_values = self.model(state).detach()\n",
    "        action = torch.argmax(q_values)\n",
    "        return action.item()\n",
    "    \n",
    "    def process(self, state):\n",
    "        #state=np.asarray(state)\n",
    "        #print(\"gg\")\n",
    "        #print(state[0].shape)\n",
    "        #print(state[0][35:195, :, :])\n",
    "        #print(typeof(state[35:195, :, :]))\n",
    "        state = rgb2gray(state[35:195, :, :])#state[0][35:195, :])#\n",
    "        state = rescale(state, scale=0.5)\n",
    "        state = state[np.newaxis, np.newaxis, :, :]\n",
    "        return torch.tensor(state, device=self.device, dtype=torch.float)\n",
    "    \n",
    "    def exploration_rate(self, t):\n",
    "        if 0 <= t < self.anneal_time:\n",
    "            return self.e_i - t*(self.e_i - self.e_f)/self.anneal_time\n",
    "        elif t >= self.anneal_time:\n",
    "            return self.e_f\n",
    "        elif t < 0:\n",
    "            return self.e_i\n",
    "    \n",
    "    def save(self, t):\n",
    "        save_path = os.path.join(self.ckptdir, 'model-{}'.format(t))\n",
    "        torch.save(self.model.state_dict(), save_path)\n",
    "    \n",
    "    def load(self):\n",
    "        ckpts = [file for file in os.listdir(self.ckptdir) if 'model' in file]\n",
    "        steps = [int(re.search('\\d+', file).group(0)) for file in ckpts]\n",
    "        \n",
    "        latest_ckpt = ckpts[np.argmax(steps)]\n",
    "        self.t = np.max(steps)\n",
    "        \n",
    "        print(\"Loading checkpoint: {}\".format(latest_ckpt))\n",
    "        \n",
    "        self.model.load_state_dict(torch.load(os.path.join(self.ckptdir, latest_ckpt)))\n",
    "        \n",
    "    def update(self, batch_size):\n",
    "        self.model.zero_grad()\n",
    "\n",
    "        state, action, reward, terminal, next_state = self.retrieve(batch_size)\n",
    "        q = self.model(state).gather(1, action.view(batch_size, 1))\n",
    "        qmax = self.clone_model(next_state).max(dim=1)[0]\n",
    "        \n",
    "        nonterminal_target = reward + self.gamma*qmax\n",
    "        terminal_target = reward\n",
    "        \n",
    "        target = terminal.float()*terminal_target + (~terminal).float()*nonterminal_target\n",
    "    \n",
    "        loss = self.loss(q.view(-1), target)\n",
    "        loss.backward()\n",
    "        self.opt.step()\n",
    "\n",
    "    def play(self, episodes, train=False, load=False, plot=False, render=False, verbose=False):\n",
    "    \n",
    "        self.t = 0\n",
    "        metadata = dict(episode=[], reward=[])\n",
    "        \n",
    "        if load:\n",
    "            self.load()\n",
    "\n",
    "        try:\n",
    "            progress_bar = tqdm(range(episodes), unit='episode')\n",
    "            \n",
    "            i = 0\n",
    "            for episode in progress_bar:\n",
    "\n",
    "                state, info = env.reset()\n",
    "                state = self.process(state)\n",
    "                #print(state.shape)\n",
    "                done = False\n",
    "                total_reward = 0\n",
    "\n",
    "                if(render):\n",
    "                    img = plt.imshow(env.render())\n",
    "                while not done:\n",
    "\n",
    "                    if render:\n",
    "                        img.set_data(env.render())\n",
    "                        display.display(plt.gcf())\n",
    "                        display.clear_output(wait=True)\n",
    "\n",
    "                        \n",
    "                    #print(state.size()[1])\n",
    "                    while state.size()[1] < num_frames:\n",
    "                        action = 1 # Fire\n",
    "                        #observation, reward, terminated, truncated, info\n",
    "                        new_frame, reward, done,truncated, info = env.step(action)\n",
    "                        new_frame = self.process(new_frame)\n",
    "\n",
    "                        state = torch.cat([state, new_frame], 1)\n",
    "                    #print(\"hmm\")\n",
    "                    #print(state.shape)\n",
    "                    \n",
    "                    if train and np.random.uniform() < self.exploration_rate(self.t-burn_in):\n",
    "                        action = np.random.choice(num_actions)\n",
    "\n",
    "                    else:\n",
    "                        action = self.act(state)\n",
    "\n",
    "                    new_frame, reward, done,truncated, info = env.step(action)\n",
    "                    new_frame = self.process(new_frame)\n",
    "\n",
    "                    new_state = torch.cat([state, new_frame], 1)\n",
    "                    new_state = new_state[:, 1:, :, :]\n",
    "                    \n",
    "                    if train:\n",
    "                        reward = torch.tensor([reward], device=self.device, dtype=torch.float)\n",
    "                        action = torch.tensor([action], device=self.device, dtype=torch.long)\n",
    "                        done = torch.tensor([done], device=self.device, dtype=torch.uint8)\n",
    "                        \n",
    "                        self.remember(state, action, reward, done, new_state)\n",
    "\n",
    "                    state = new_state\n",
    "                    total_reward += reward\n",
    "                    self.t += 1\n",
    "                    i += 1\n",
    "                    \n",
    "                    if not train:\n",
    "                        time.sleep(0.1)\n",
    "                    \n",
    "                    if train and self.t > burn_in and i > batch_size:\n",
    "\n",
    "                        if self.t % update_interval == 0:\n",
    "                            self.update(batch_size)\n",
    "\n",
    "                        if self.t % clone_interval == 0:\n",
    "                            self.clone()\n",
    "\n",
    "                        if self.t % save_interval == 0:\n",
    "                            self.save(self.t)\n",
    "\n",
    "                    if self.t % 1000 == 0:\n",
    "                        progress_bar.set_description(\"t = {}\".format(self.t))\n",
    "\n",
    "                metadata['episode'].append(episode)\n",
    "                metadata['reward'].append(total_reward)\n",
    "\n",
    "                if episode % 100 == 0 and episode != 0:\n",
    "                    avg_return = np.mean(metadata['reward'][-100:])\n",
    "                    print(\"Average return (last 100 episodes): {:.2f}\".format(avg_return))\n",
    "\n",
    "                if plot:\n",
    "                    plt.scatter(metadata['episode'], metadata['reward'])\n",
    "                    plt.xlim(0, episodes)\n",
    "                    plt.xlabel(\"Episode\")\n",
    "                    plt.ylabel(\"Return\")\n",
    "                    display.clear_output(wait=True)\n",
    "                    display.display(plt.gcf())\n",
    "            \n",
    "            env.close()\n",
    "            return metadata\n",
    "\n",
    "        except KeyboardInterrupt:\n",
    "            if train:\n",
    "                print(\"Saving model before quitting...\")\n",
    "                self.save(self.t)\n",
    "            \n",
    "            env.close()\n",
    "            return metadata"
   ]
  },
  {
   "cell_type": "code",
   "execution_count": 96,
   "metadata": {},
   "outputs": [],
   "source": [
    "# Hyperparameters\n",
    "env = gym.make(\"ALE/SpaceInvaders-v5\")\n",
    "batch_size = 32\n",
    "update_interval = 4\n",
    "clone_interval = int(1e4)\n",
    "save_interval = int(1e5)\n",
    "frame_skip = None\n",
    "num_frames = 4\n",
    "num_actions = len(env.unwrapped.get_action_meanings())\n",
    "episodes = 100#int(1e5)\n",
    "memory_depth = int(1e5)\n",
    "epsilon_i = 1.0\n",
    "epsilon_f = 0.1\n",
    "anneal_time = int(1e6)\n",
    "burn_in = int(5e4)\n",
    "gamma = 0.99\n",
    "learning_rate = 2.5e-4"
   ]
  },
  {
   "cell_type": "code",
   "execution_count": 97,
   "metadata": {},
   "outputs": [
    {
     "data": {
      "application/vnd.jupyter.widget-view+json": {
       "model_id": "f020717df2684431aa056bca25742fa7",
       "version_major": 2,
       "version_minor": 0
      },
      "text/plain": [
       "  0%|          | 0/2 [00:00<?, ?episode/s]"
      ]
     },
     "metadata": {},
     "output_type": "display_data"
    }
   ],
   "source": [
    "model = DeepQNetwork(num_frames, num_actions)\n",
    "agent = Agent(model, memory_depth, learning_rate, gamma, epsilon_i, epsilon_f, anneal_time, 'ckpt')\n",
    "#env = gym.make('BreakoutDeterministic-v4')\n",
    "metadata = agent.play(episodes, train=True, load=False)"
   ]
  },
  {
   "cell_type": "code",
   "execution_count": 99,
   "metadata": {},
   "outputs": [
    {
     "data": {
      "text/plain": [
       "{'episode': [0], 'reward': [285.0]}"
      ]
     },
     "execution_count": 99,
     "metadata": {},
     "output_type": "execute_result"
    }
   ],
   "source": [
    "metadata\n"
   ]
  },
  {
   "cell_type": "code",
   "execution_count": 98,
   "metadata": {},
   "outputs": [
    {
     "data": {
      "image/png": "[encoded data removed]",
      "text/plain": [
       "<Figure size 800x550 with 1 Axes>"
      ]
     },
     "metadata": {},
     "output_type": "display_data"
    }
   ],
   "source": [
    "env = gym.make(\"ALE/SpaceInvaders-v5\", render_mode=\"rgb_array\")\n",
    "RENDER_WHILE_TRAINING = True\n",
    "\n",
    "metadata = agent.play(1, train=False, load=False,render=True)\n"
   ]
  },
  {
   "cell_type": "code",
   "execution_count": null,
   "metadata": {},
   "outputs": [],
   "source": [
    "\n",
    "episodes = 5\n",
    "for episode in range(1, episodes+1):\n",
    "    state, info = env.reset()\n",
    "    done = False\n",
    "    score = 0 \n",
    "    \n",
    "    img = plt.imshow(env.render())\n",
    "    while not done:\n",
    "        print(\"hellpo\")\n",
    "        #env.render(\"rgb_array\")\n",
    "        if RENDER_WHILE_TRAINING:\n",
    "            img.set_data(env.render())\n",
    "            display.display(plt.gcf())\n",
    "            display.clear_output(wait=True)\n",
    "        print(state)\n",
    "        state = agent.process(state)\n",
    "        print(state.shape)\n",
    "        action = agent.act(state)#random.choice([0,1,2,3,4,5])\n",
    "        print(action)\n",
    "        state, reward, terminated, truncated, info = env.step(action)\n",
    "        score+=reward\n",
    "        if terminated or truncated:\n",
    "            state, info = env.reset()\n",
    "    print('Episode:{} Score:{}'.format(episode, score))\n",
    "env.close()"
   ]
  },
  {
   "cell_type": "code",
   "execution_count": null,
   "metadata": {},
   "outputs": [],
   "source": []
  }
 ],
 "metadata": {
  "kernelspec": {
   "display_name": "Displme",
   "language": "python",
   "name": "venv"
  },
  "language_info": {
   "codemirror_mode": {
    "name": "ipython",
    "version": 3
   },
   "file_extension": ".py",
   "mimetype": "text/x-python",
   "name": "python",
   "nbconvert_exporter": "python",
   "pygments_lexer": "ipython3",
   "version": "3.9.5"
  }
 },
 "nbformat": 4,
 "nbformat_minor": 2
}
